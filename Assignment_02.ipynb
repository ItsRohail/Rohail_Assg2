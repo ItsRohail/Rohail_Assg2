{
  "nbformat": 4,
  "nbformat_minor": 0,
  "metadata": {
    "colab": {
      "provenance": []
    },
    "kernelspec": {
      "name": "python3",
      "display_name": "Python 3"
    },
    "language_info": {
      "name": "python"
    }
  },
  "cells": [
    {
      "cell_type": "markdown",
      "source": [
        "## Task 01:\n",
        "\n",
        "Print Your Name with your Father name and Date of birth using suitable escape sequence charactor\n",
        "\n"
      ],
      "metadata": {
        "id": "bb0O0xtk1v9t"
      }
    },
    {
      "cell_type": "code",
      "source": [
        "# Write your code here\n",
        "print(\"Name: Rohail \\nFather Name: Rashid \\nDOB: 04-01-2000\")"
      ],
      "metadata": {
        "id": "U7LLGIkO2Ixa",
        "colab": {
          "base_uri": "https://localhost:8080/"
        },
        "outputId": "e0b64432-cf42-481b-f7f1-826c7497b213"
      },
      "execution_count": 11,
      "outputs": [
        {
          "output_type": "stream",
          "name": "stdout",
          "text": [
            "Name: Rohail \n",
            "Father Name: Rashid \n",
            "DOB: 04-01-2000\n"
          ]
        }
      ]
    },
    {
      "cell_type": "markdown",
      "source": [
        "# Task 02:\n",
        "\n",
        "Write your small bio using variables and print it using print function"
      ],
      "metadata": {
        "id": "TU-xwiLV2NgB"
      }
    },
    {
      "cell_type": "code",
      "source": [
        "# Write your code here\n",
        "Name = \"Rohail\"\n",
        "Age = 24\n",
        "Height = \"5'11\"\n",
        "\n",
        "print(\"This is: \", Name, \"\\nand am\", Age, \"years old\\nand have height\",Height)"
      ],
      "metadata": {
        "id": "Dw8w3rwl2wDB",
        "colab": {
          "base_uri": "https://localhost:8080/"
        },
        "outputId": "809b6545-627d-4bdd-b790-fb936cb7a96f"
      },
      "execution_count": 7,
      "outputs": [
        {
          "output_type": "stream",
          "name": "stdout",
          "text": [
            "This is:  Rohail \n",
            "and am 24 years old\n",
            "and have height 5'11\n"
          ]
        }
      ]
    },
    {
      "cell_type": "markdown",
      "source": [
        "# Task 03:\n",
        "\n",
        "Write a program in which use all the operators we can use in Python"
      ],
      "metadata": {
        "id": "F2lcZuDe2ztv"
      }
    },
    {
      "cell_type": "code",
      "source": [
        "# Write your code here\n",
        "a = 8\n",
        "b = 4\n",
        "\n",
        "print(a+b)\n",
        "print(a-b)\n",
        "print(a/b)\n",
        "print(a*b)\n",
        "print(a%b)\n",
        "print(a**b)\n",
        "print(8//4)"
      ],
      "metadata": {
        "id": "lEJhzsXh3e7K",
        "colab": {
          "base_uri": "https://localhost:8080/"
        },
        "outputId": "62fd4027-8714-46f5-c2aa-f436c7a8fad1"
      },
      "execution_count": 8,
      "outputs": [
        {
          "output_type": "stream",
          "name": "stdout",
          "text": [
            "12\n",
            "4\n",
            "2.0\n",
            "32\n",
            "0\n",
            "4096\n",
            "2\n"
          ]
        }
      ]
    },
    {
      "cell_type": "markdown",
      "source": [
        "# Task 04:\n",
        "\n",
        "\n",
        "1. Mention Marks of English , Islamiat and Maths out of 100 in 3 different variables\n",
        "\n",
        "2. Mention Variable of Total Marks and assign 300 to it\n",
        "\n",
        "3. Calculate Percentage"
      ],
      "metadata": {
        "id": "i4N14TJU3l7n"
      }
    },
    {
      "cell_type": "code",
      "source": [
        "# Write your code here\n",
        "English = 85\n",
        "Islamiat = 95\n",
        "Maths = 90\n",
        "Total = 300\n",
        "\n",
        "print(\"Percentage: \", ((English+Islamiat+Maths)/Total)*100, \"%\")"
      ],
      "metadata": {
        "id": "nxojzvRg5PP4",
        "colab": {
          "base_uri": "https://localhost:8080/"
        },
        "outputId": "6c83dfb9-f564-4ebb-bd0f-d4b77a58b2ac"
      },
      "execution_count": 10,
      "outputs": [
        {
          "output_type": "stream",
          "name": "stdout",
          "text": [
            "Percentage:  90.0 %\n"
          ]
        }
      ]
    },
    {
      "cell_type": "code",
      "source": [],
      "metadata": {
        "id": "gr2LZuZ95ZCI"
      },
      "execution_count": null,
      "outputs": []
    }
  ]
}